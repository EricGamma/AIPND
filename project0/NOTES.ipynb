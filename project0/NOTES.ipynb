{
 "cells": [
  {
   "cell_type": "markdown",
   "metadata": {},
   "source": [
    "### Some Questions\n",
    "* ? Zip 转置\n",
    "* ? 列表元素差异, 列表元素差异下标\n",
    "* ? L1=[1,2,3,4,5], L2=[\"star\",\"moon\"], L3=[1,2,\"star\"]，运用max函数，输出最长的列表。\n",
    "* ? 词频统计"
   ]
  },
  {
   "cell_type": "markdown",
   "metadata": {},
   "source": [
    "* Q1"
   ]
  },
  {
   "cell_type": "code",
   "execution_count": 127,
   "metadata": {},
   "outputs": [],
   "source": [
    "def fun(*x):\n",
    "    return x[0]"
   ]
  },
  {
   "cell_type": "code",
   "execution_count": 129,
   "metadata": {},
   "outputs": [
    {
     "data": {
      "text/plain": [
       "(0, 1, 2)"
      ]
     },
     "execution_count": 129,
     "metadata": {},
     "output_type": "execute_result"
    }
   ],
   "source": [
    "fun((0,1,2), (1,2,3))"
   ]
  },
  {
   "cell_type": "code",
   "execution_count": 135,
   "metadata": {},
   "outputs": [
    {
     "data": {
      "text/plain": [
       "[(0, 1), (1, 2), (2, 3)]"
      ]
     },
     "execution_count": 135,
     "metadata": {},
     "output_type": "execute_result"
    }
   ],
   "source": [
    "list(zip((0,1,2), (1,2,3)))"
   ]
  },
  {
   "cell_type": "code",
   "execution_count": 134,
   "metadata": {},
   "outputs": [
    {
     "data": {
      "text/plain": [
       "((0, 1), (1, 2), (2, 3))"
      ]
     },
     "execution_count": 134,
     "metadata": {},
     "output_type": "execute_result"
    }
   ],
   "source": [
    "tuple(zip((0,1,2), (1,2,3)))"
   ]
  },
  {
   "cell_type": "code",
   "execution_count": null,
   "metadata": {
    "collapsed": true
   },
   "outputs": [],
   "source": [
    "data = ((0,1,2), (1,2,3))\n",
    "tuple(zip(*data))"
   ]
  },
  {
   "cell_type": "markdown",
   "metadata": {},
   "source": [
    "* Q2"
   ]
  },
  {
   "cell_type": "code",
   "execution_count": 151,
   "metadata": {},
   "outputs": [
    {
     "data": {
      "text/plain": [
       "2"
      ]
     },
     "execution_count": 151,
     "metadata": {},
     "output_type": "execute_result"
    }
   ],
   "source": [
    "[1, 2, 'a'].index('a')"
   ]
  },
  {
   "cell_type": "code",
   "execution_count": 141,
   "metadata": {},
   "outputs": [
    {
     "data": {
      "text/plain": [
       "2"
      ]
     },
     "execution_count": 141,
     "metadata": {},
     "output_type": "execute_result"
    }
   ],
   "source": [
    "L1 = [1, 2, 3]\n",
    "L2 = [1, 2, 'a']\n",
    "new = []\n",
    "for i in L2:\n",
    "    if i not in L1:\n",
    "        new.append(i)\n",
    "print(new)\n",
    "print(L2.index(new[0]))"
   ]
  },
  {
   "cell_type": "code",
   "execution_count": 150,
   "metadata": {},
   "outputs": [
    {
     "data": {
      "text/plain": [
       "['a', 2]"
      ]
     },
     "execution_count": 150,
     "metadata": {},
     "output_type": "execute_result"
    }
   ],
   "source": [
    "L1 = [1, 2, 3]\n",
    "L2 = [1, 2, 'a']\n",
    "new = []\n",
    "for i in L2:\n",
    "    try:\n",
    "        L1.index(i)\n",
    "    except:\n",
    "        new.append(i)\n",
    "        new.append(L2.index(i))\n",
    "new"
   ]
  },
  {
   "cell_type": "markdown",
   "metadata": {},
   "source": [
    "* Q3"
   ]
  },
  {
   "cell_type": "code",
   "execution_count": null,
   "metadata": {
    "collapsed": true
   },
   "outputs": [],
   "source": [
    "L1 = [1, 2, 3, 4, 5]\n",
    "L2 = ['satr', 'moon']\n",
    "L3 = [1, 2, 'star']\n",
    "all_list = [L3, L2, L1]\n",
    "\n",
    "# method 1\n",
    "all_list_len = map(len, all_list)\n",
    "print all_list[all_list_len.index(max(all_list_len))]\n",
    "\n",
    "# method 2\n",
    "print sorted(all_list, key = lambda x: len(x), reverse = True)[0]\n"
   ]
  },
  {
   "cell_type": "markdown",
   "metadata": {},
   "source": [
    "* Q4"
   ]
  },
  {
   "cell_type": "code",
   "execution_count": 152,
   "metadata": {
    "collapsed": true
   },
   "outputs": [],
   "source": [
    "data = ['thiS is an apple', 'this is a banana', 'this is a pen']"
   ]
  },
  {
   "cell_type": "code",
   "execution_count": 159,
   "metadata": {},
   "outputs": [
    {
     "data": {
      "text/plain": [
       "'THIS'"
      ]
     },
     "execution_count": 159,
     "metadata": {},
     "output_type": "execute_result"
    }
   ],
   "source": [
    "data[0].split(' ')[0].upper()"
   ]
  },
  {
   "cell_type": "markdown",
   "metadata": {
    "slideshow": {
     "slide_type": "-"
    }
   },
   "source": [
    "## Jupyter Notebook"
   ]
  },
  {
   "cell_type": "markdown",
   "metadata": {
    "collapsed": true
   },
   "source": [
    "#### [1] 基本命令\n",
    "* Esc + H\n",
    "* Shift + Enter, Ctrl + Enter\n",
    "* Esc + B, Esc + A\n",
    "* Esc + Y, Esc + M, Esc + R\n",
    "* Esc + L\n",
    "* Esc + D + D, Esc + Z\n",
    "* Shift + M\n",
    "\n",
    "#### [2] 进阶操作\n",
    "* Latex\n",
    "* HTML\n",
    "* Slides\n",
    "* Magic \n",
    "\n",
    "#### APPENDIX\n",
    "* Slides: `jupyter nbconvert notebook.ipynb --to slides --post serve`  \n",
    "* Magic: `http://ipython.readthedocs.io/en/stable/interactive/magics.html`  \n",
    "* Markdown: `https://github.com/adam-p/markdown-here/wiki/Markdown-Cheatsheet`\n",
    "* `magic code + ?`  \n",
    "* `\n",
    "cd ..\n",
    "import os\n",
    "os.getcwd()\n",
    "`\n",
    "* `\n",
    "%time\n",
    "%%time\n",
    "%timeit(fun(x))\n",
    "`"
   ]
  },
  {
   "cell_type": "markdown",
   "metadata": {},
   "source": [
    "## Python Programming\n"
   ]
  },
  {
   "cell_type": "code",
   "execution_count": 83,
   "metadata": {},
   "outputs": [
    {
     "data": {
      "text/plain": [
       "'0b1100001'"
      ]
     },
     "execution_count": 83,
     "metadata": {},
     "output_type": "execute_result"
    }
   ],
   "source": [
    "bin(ord('a'))"
   ]
  },
  {
   "cell_type": "code",
   "execution_count": 88,
   "metadata": {},
   "outputs": [
    {
     "data": {
      "text/plain": [
       "97"
      ]
     },
     "execution_count": 88,
     "metadata": {},
     "output_type": "execute_result"
    }
   ],
   "source": [
    "# 97\n",
    "a = '1100001'\n",
    "result = 0\n",
    "for i, j in enumerate(a[::-1]):\n",
    "    result += eval(j)*2**i\n",
    "result"
   ]
  },
  {
   "cell_type": "markdown",
   "metadata": {},
   "source": [
    "#### [1] 基本数据类型与运算符\n",
    "* int, float, bool, string, list, tuple, dict, set\n",
    "* $+, -, \\times, /, //, \\%, x^2$\n",
    "* $==, !=, >, <, >=, <=$\n",
    "* $=, +=, -=, *=, /=, \\%=, **=, //=$\n",
    "* &, |, ^, ~, bin, ord  \n",
    "`0^0=0; 0^1=1; 1^0=1; 1^1=0`  \n",
    "`0|0=0; 0|1=1; 1|0=1; 1|1=1`  \n",
    "* and, or, not\n",
    "* in, not in\n",
    "* is, is not\n",
    "* print format, int(), type\n",
    "* eval, exec\n",
    "\n",
    "#### [2] Python语法\n",
    "* if, filter\n",
    "* for, map\n",
    "* while\n",
    "* try except finally\n",
    "* zip, enumerate\n"
   ]
  },
  {
   "cell_type": "code",
   "execution_count": 116,
   "metadata": {
    "collapsed": true
   },
   "outputs": [],
   "source": [
    "def fun(x):\n",
    "    if x>1:\n",
    "        return x"
   ]
  },
  {
   "cell_type": "code",
   "execution_count": 121,
   "metadata": {},
   "outputs": [
    {
     "name": "stdout",
     "output_type": "stream",
     "text": [
      "[3, 4]\n"
     ]
    },
    {
     "data": {
      "text/plain": [
       "[3, 4]"
      ]
     },
     "execution_count": 121,
     "metadata": {},
     "output_type": "execute_result"
    }
   ],
   "source": [
    "a = [1,3,4]\n",
    "new = []\n",
    "for i in a:\n",
    "    if i > 1:\n",
    "        new.append(i)\n",
    "print(new)\n",
    "\n",
    "list(filter(lambda x: x if x>1 else None,a))"
   ]
  },
  {
   "cell_type": "code",
   "execution_count": 123,
   "metadata": {},
   "outputs": [
    {
     "data": {
      "text/plain": [
       "[2, 4, 5]"
      ]
     },
     "execution_count": 123,
     "metadata": {},
     "output_type": "execute_result"
    }
   ],
   "source": [
    "new = []\n",
    "for i in a:\n",
    "    new.append(i+1)\n",
    "new"
   ]
  },
  {
   "cell_type": "code",
   "execution_count": 125,
   "metadata": {},
   "outputs": [
    {
     "data": {
      "text/plain": [
       "[2, 4, 5]"
      ]
     },
     "execution_count": 125,
     "metadata": {},
     "output_type": "execute_result"
    }
   ],
   "source": [
    "list(map(lambda x: x+1, a))"
   ]
  },
  {
   "cell_type": "markdown",
   "metadata": {},
   "source": [
    "## Project: My Wechat Friends"
   ]
  },
  {
   "cell_type": "code",
   "execution_count": null,
   "metadata": {
    "collapsed": true
   },
   "outputs": [],
   "source": [
    "# other people\n",
    "user = itchat.search_friends(name = u'name')[0]\n",
    "user.send(u'test')"
   ]
  },
  {
   "cell_type": "code",
   "execution_count": null,
   "metadata": {
    "collapsed": true
   },
   "outputs": [],
   "source": [
    "# wordcloud\n",
    "import PIL.Image as Image\n",
    "alice_coloring = np.array(Image.open(\"wechat.jpg\"))\n",
    "my_wordcloud = WordCloud(background_color=\"white\", max_words=2000, mask=alice_coloring,\n",
    "                         max_font_size=40, random_state=42, font_path='./SimHei.ttf').generate(wl_space_split)\n",
    "plt.figure(figsize = (12, 12))\n",
    "plt.imshow(my_wordcloud)\n",
    "plt.axis(\"off\")\n",
    "plt.show()\n",
    "my_wordcloud.to_file(os.path.join(\"wechatfriends_wordcloud.png\"))"
   ]
  },
  {
   "cell_type": "markdown",
   "metadata": {},
   "source": [
    "## Visualization"
   ]
  },
  {
   "cell_type": "markdown",
   "metadata": {},
   "source": [
    "## Practice"
   ]
  }
 ],
 "metadata": {
  "kernelspec": {
   "display_name": "Python 3",
   "language": "python",
   "name": "python3"
  },
  "language_info": {
   "codemirror_mode": {
    "name": "ipython",
    "version": 3
   },
   "file_extension": ".py",
   "mimetype": "text/x-python",
   "name": "python",
   "nbconvert_exporter": "python",
   "pygments_lexer": "ipython3",
   "version": "3.6.2"
  }
 },
 "nbformat": 4,
 "nbformat_minor": 2
}
