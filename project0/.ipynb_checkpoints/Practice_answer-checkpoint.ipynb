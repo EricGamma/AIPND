{
 "cells": [
  {
   "cell_type": "markdown",
   "metadata": {},
   "source": [
    "### Practice Answer"
   ]
  },
  {
   "cell_type": "markdown",
   "metadata": {},
   "source": [
    "* **综合题：下面是4个产品(p1, p2, p3, p4)，每个产品对应一组数据，其中第1个整数型数据表示库存量，第2，3，4个数据为浮点型，表示产品在三个不同标准下的评分，第5个数据表示更新状态，True表示继续更新，False表示停止更新，第6个数据格式是string，包含了评价信息。**  \n",
    "**问题1**：对于第一个数据，产品1，2需要每3个进行打包，产品3，4则需要每2个进行打包，问：每个产品需要补充多少库存才能确保打包完成后，仓库中不留产品。  \n",
    "**问题2**：在三个标准下的评分由于录入数据的疏忽，出现了原本应为82.3的分数变为了'8 2.3'，请恢复这些数据，并把值为None的数据用其它有分数数据的平均值进行填补。  \n",
    "**问题3**：对于第5个数据的更新状态，请将True变为1，False变为0  \n",
    "**问题4**：请删去第6个数据评论文字中的非英文与数字部分，并将所有英文转化为小写，将Xm3 形式的字符串中的 X 提取出来，变为浮点型  \n",
    "如：'Good product and 30m^3 very popuLar but hard to use!😊' 变为 ['good', 'product', 'and', 'very', 'popular', 'but', 'hard', 'to', 'use', 30.0]  \n"
   ]
  },
  {
   "cell_type": "code",
   "execution_count": 2,
   "metadata": {
    "collapsed": true
   },
   "outputs": [],
   "source": [
    "data = {'p1': [32, 98.2, 99.1, '97. 0', True, 'Good product and 30m^3 very popuLar but hard to use!😊'], \n",
    "'p2': (66, None, 96.0, 95.4, True, 'Good product with 10m^3 solid quality!'), \n",
    "'p3': (73, 90.0, '8 2.3', None, True, 'Fair 5m^3 qualiTy...'), \n",
    "'p4': (14, '9 9.0', None, None, False, 'Excellent and 17m^3 easy to use!!')}"
   ]
  },
  {
   "cell_type": "markdown",
   "metadata": {},
   "source": [
    "### Question 1"
   ]
  },
  {
   "cell_type": "code",
   "execution_count": 5,
   "metadata": {},
   "outputs": [
    {
     "name": "stdout",
     "output_type": "stream",
     "text": [
      "PRODUCT 0: 3i + 1\n",
      "PRODUCT 1: 3i + 3\n",
      "PRODUCT 2: 2i + 1\n",
      "PRODUCT 3: 2i + 2\n"
     ]
    }
   ],
   "source": [
    "# Question 1\n",
    "data_value = list(data.values())\n",
    "inventory = [each[0] for each in data_value]\n",
    "result = list(map(lambda x: '3i + ' + str(3 - x%3), inventory[0:2])) + list(map(lambda x: '2i + ' + str(2 - x%2), inventory[2:]))\n",
    "for i in range(len(result)):\n",
    "    print('PRODUCT {0}: {1}'.format(i, result[i]))"
   ]
  },
  {
   "cell_type": "markdown",
   "metadata": {},
   "source": [
    "### Question 2"
   ]
  },
  {
   "cell_type": "code",
   "execution_count": 142,
   "metadata": {},
   "outputs": [
    {
     "name": "stdout",
     "output_type": "stream",
     "text": [
      "new_score: \n",
      "[[98.2, 99.1, 97.0], [95.7, 96.0, 95.4], [90.0, 82.3, 86.15], [99.0, 99.0, 99.0]]\n"
     ]
    }
   ],
   "source": [
    "# Question 2\n",
    "score = [each[1:4] for each in data_value]\n",
    "\n",
    "# new_score = []\n",
    "# for each_scorer in score:\n",
    "#     each_score = []\n",
    "#     for each in each_scorer:\n",
    "#         if type(each) == str:\n",
    "#             each_score.append(float(''.join(each.split(' '))))\n",
    "#         elif each == None:\n",
    "#             each_score.append(0)\n",
    "#         else:\n",
    "#             each_score.append(each)\n",
    "#     new_score.append(each_score)\n",
    "\n",
    "new_score = [list(map(lambda x: float(''.join(x.split(' '))) if type(x) == str else 0 if x == None else x , each_scorer)) \\\n",
    "             for each_scorer in score]\n",
    "\n",
    "all_value_index = []\n",
    "for each_scorer in score:\n",
    "    replace_index = []\n",
    "    for i, j in enumerate(each_scorer):\n",
    "        if j != None:\n",
    "            replace_index.append(i)\n",
    "    all_value_index.append(replace_index)\n",
    "\n",
    "nonone_list = [list(map(lambda x: new_score[i][x], all_value_index[i])) for i in range(len(all_value_index))]\n",
    "c_list = [sum(each_list)/len(each_list) for each_list in nonone_list]\n",
    "new_score = [list(map(lambda x: c_list[i] if x == 0 else x, new_score[i])) for i in range(len(new_score))]\n",
    "print('new_score: \\n{0}'.format(new_score))"
   ]
  },
  {
   "cell_type": "markdown",
   "metadata": {},
   "source": [
    "### Question 3"
   ]
  },
  {
   "cell_type": "code",
   "execution_count": 174,
   "metadata": {
    "scrolled": true
   },
   "outputs": [
    {
     "name": "stdout",
     "output_type": "stream",
     "text": [
      "Transform [1, 1, 1, 0]\n",
      "Transform [1, 1, 1, 0]\n"
     ]
    }
   ],
   "source": [
    "# Question 3\n",
    "update = [each[4] for each in data_value]\n",
    "print('Transform', list(map(lambda x: 1 if x == True else 0 if x == False else x, update)))\n",
    "print('Transform', list(map(int, update)))"
   ]
  },
  {
   "cell_type": "markdown",
   "metadata": {},
   "source": [
    "### Question 4"
   ]
  },
  {
   "cell_type": "code",
   "execution_count": 203,
   "metadata": {},
   "outputs": [
    {
     "name": "stdout",
     "output_type": "stream",
     "text": [
      "Result: \n",
      " [['good', 'product', 'and', 'very', 'popular', 'but', 'hard', 'to', 'use', 3], ['good', 'product', 'with', 'solid', 'quality', 1], ['fair', 'quality', 5], ['excellent', 'and', 'easy', 'to', 'use', 17]]\n"
     ]
    }
   ],
   "source": [
    "# Question 4\n",
    "def to_word(sen):\n",
    "    '''\n",
    "    Input: sentence\n",
    "    Output: sentence\n",
    "    '''\n",
    "    return ''.join(list(filter(lambda ch: ch in 'abcdefghijklmnopqrstuvwxyz ABCDEFGHIJKLMNOPQRSTUVWXYZ123456789', sen.lower())))\n",
    "\n",
    "txt = [each[5] for each in data_value]\n",
    "words = [to_word(each).split(' ') for each in txt]\n",
    "bool_words = [list(map(lambda x: x.isalpha(), each)) for each in words]\n",
    "new_words = [list(filter(lambda x: j[words[i].index(x)],words[i])) for i,j in enumerate(bool_words)]\n",
    "nums = [list(filter(lambda x: not j[words[i].index(x)],words[i])) for i,j in enumerate(bool_words)]\n",
    "new_nums = [list(map(lambda x: int(x[:-2]), each)) for each in nums]\n",
    "\n",
    "new_txt = []\n",
    "for i, j in zip(new_words, new_nums):\n",
    "    new_txt.append(i+j)\n",
    "print('Result: \\n',new_txt)"
   ]
  }
 ],
 "metadata": {
  "kernelspec": {
   "display_name": "Python 2",
   "language": "python",
   "name": "python2"
  },
  "language_info": {
   "codemirror_mode": {
    "name": "ipython",
    "version": 2
   },
   "file_extension": ".py",
   "mimetype": "text/x-python",
   "name": "python",
   "nbconvert_exporter": "python",
   "pygments_lexer": "ipython2",
   "version": "2.7.13"
  }
 },
 "nbformat": 4,
 "nbformat_minor": 2
}
