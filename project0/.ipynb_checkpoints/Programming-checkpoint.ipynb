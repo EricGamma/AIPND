{
 "cells": [
  {
   "cell_type": "markdown",
   "metadata": {},
   "source": [
    "* 数据类型  \n",
    "string, int, float(科学记数法), long int, None, Bool(0, 1, True, False)  \n",
    "list, dict, tuple, set  \n",
    "* 基本语法  \n",
    "for  \n",
    "if else  \n",
    "try  \n",
    "except"
   ]
  },
  {
   "cell_type": "code",
   "execution_count": 38,
   "metadata": {},
   "outputs": [
    {
     "ename": "ValueError",
     "evalue": "5 is not in list",
     "output_type": "error",
     "traceback": [
      "\u001b[1;31m---------------------------------------------------------------------------\u001b[0m",
      "\u001b[1;31mValueError\u001b[0m                                Traceback (most recent call last)",
      "\u001b[1;32m<ipython-input-38-84cd05ce0d19>\u001b[0m in \u001b[0;36m<module>\u001b[1;34m()\u001b[0m\n\u001b[1;32m----> 1\u001b[1;33m \u001b[1;33m[\u001b[0m\u001b[1;36m1\u001b[0m\u001b[1;33m,\u001b[0m \u001b[1;36m2\u001b[0m\u001b[1;33m,\u001b[0m \u001b[1;36m3\u001b[0m\u001b[1;33m,\u001b[0m \u001b[1;36m4\u001b[0m\u001b[1;33m]\u001b[0m\u001b[1;33m.\u001b[0m\u001b[0mindex\u001b[0m\u001b[1;33m(\u001b[0m\u001b[1;36m5\u001b[0m\u001b[1;33m)\u001b[0m\u001b[1;33m\u001b[0m\u001b[0m\n\u001b[0m",
      "\u001b[1;31mValueError\u001b[0m: 5 is not in list"
     ]
    }
   ],
   "source": [
    "[1, 2, 3, 4].index(5)"
   ]
  },
  {
   "cell_type": "code",
   "execution_count": 34,
   "metadata": {
    "scrolled": true
   },
   "outputs": [
    {
     "data": {
      "text/plain": [
       "[0, 1, 2]"
      ]
     },
     "execution_count": 34,
     "metadata": {},
     "output_type": "execute_result"
    }
   ],
   "source": [
    "list(range(0,3,1))"
   ]
  },
  {
   "cell_type": "code",
   "execution_count": 42,
   "metadata": {
    "scrolled": true
   },
   "outputs": [
    {
     "name": "stdout",
     "output_type": "stream",
     "text": [
      "2\n",
      "0\n"
     ]
    }
   ],
   "source": [
    "oldList = list(range(0,3,1))\n",
    "newList = []\n",
    "for i in range(-5, 5):\n",
    "    try:\n",
    "        oldList.index(i)\n",
    "        newList.append(i)\n",
    "    except ValueError:\n",
    "        continue\n",
    "print(max(newList))\n",
    "print(min(newList))"
   ]
  },
  {
   "cell_type": "code",
   "execution_count": 75,
   "metadata": {},
   "outputs": [
    {
     "name": "stdout",
     "output_type": "stream",
     "text": [
      "ab\n",
      "a\n",
      "b\n",
      "a\n",
      "b\n",
      "a\n",
      "b\n",
      "a\n",
      "b\n"
     ]
    }
   ],
   "source": [
    "print('a', end = \"\")\n",
    "print('b')\n",
    "\n",
    "print('a')\n",
    "print('b')\n",
    "\n",
    "print('a\\nb')\n",
    "\n",
    "print('a','b', sep = '\\n')\n",
    "\n",
    "print('a\\n{0}'.format('b'))\n",
    "\n",
    "print(\"%e\"%10000)\n",
    "print(\"3e3 = {:.5f}\".format(3e3))"
   ]
  },
  {
   "cell_type": "code",
   "execution_count": 20,
   "metadata": {},
   "outputs": [
    {
     "data": {
      "text/plain": [
       "True"
      ]
     },
     "execution_count": 20,
     "metadata": {},
     "output_type": "execute_result"
    }
   ],
   "source": [
    "0 == False\n",
    "0 is False\n",
    "1 is True\n",
    "1 == True\n",
    "3 == True\n",
    "3 is True\n",
    "not 0 is True\n",
    "not 1 is False\n",
    "not 3 is False\n",
    "() == False\n"
   ]
  },
  {
   "cell_type": "code",
   "execution_count": null,
   "metadata": {
    "collapsed": true
   },
   "outputs": [],
   "source": [
    "#L1 = [1, 2, 3, 4, 5]\n",
    "#L2 = ['satr', 'moon']\n",
    "#L3 = [1, 2, 'star']\n",
    "#all_list = [L3, L2, L1]\n",
    "#\n",
    "## method 1\n",
    "#all_list_len = map(len, all_list)\n",
    "#print all_list[all_list_len.index(max(all_list_len))]\n",
    "#\n",
    "## method 2\n",
    "#print sorted(all_list, key = lambda x: len(x), reverse = True)[0]\n",
    "\n",
    "\n",
    "L1 = [1, 2, 3]\n",
    "L2 = [1, 2, 'a']\n",
    "\n",
    "# method 1\n",
    "diff = []\n",
    "for each_l1 in L1:\n",
    "    if each_l1 not in L2:\n",
    "         diff.append(each_l1)\n",
    "for each_l2 in L2:\n",
    "    if each_l2 not in L1:\n",
    "         diff.append(each_l2)\n",
    "print diff\n",
    "\n",
    "# method 3\n",
    "diff = []\n",
    "for each_l1 in L1:\n",
    "    try:\n",
    "        L1.index(each_l1)\n",
    "    except ValueError:\n",
    "        diff.append(each_l1)\n",
    "for each_l2 in L2:\n",
    "    try:\n",
    "        L1.index(each_l2)\n",
    "    except ValueError:\n",
    "        diff.append(each_l2)\n",
    "print diff\n"
   ]
  }
 ],
 "metadata": {
  "kernelspec": {
   "display_name": "Python 2",
   "language": "python",
   "name": "python2"
  },
  "language_info": {
   "codemirror_mode": {
    "name": "ipython",
    "version": 2
   },
   "file_extension": ".py",
   "mimetype": "text/x-python",
   "name": "python",
   "nbconvert_exporter": "python",
   "pygments_lexer": "ipython2",
   "version": "2.7.13"
  }
 },
 "nbformat": 4,
 "nbformat_minor": 2
}
